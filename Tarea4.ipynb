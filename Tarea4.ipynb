{
  "nbformat": 4,
  "nbformat_minor": 0,
  "metadata": {
    "colab": {
      "name": "Tarea4.ipynb",
      "provenance": [],
      "authorship_tag": "ABX9TyOBUpz2hq+ZL1QEKAZvY5DT",
      "include_colab_link": true
    },
    "kernelspec": {
      "name": "python3",
      "display_name": "Python 3"
    },
    "language_info": {
      "name": "python"
    }
  },
  "cells": [
    {
      "cell_type": "markdown",
      "metadata": {
        "id": "view-in-github",
        "colab_type": "text"
      },
      "source": [
        "<a href=\"https://colab.research.google.com/github/FeRosales/Tarea4/blob/main/Tarea4.ipynb\" target=\"_parent\"><img src=\"https://colab.research.google.com/assets/colab-badge.svg\" alt=\"Open In Colab\"/></a>"
      ]
    },
    {
      "cell_type": "code",
      "metadata": {
        "colab": {
          "base_uri": "https://localhost:8080/"
        },
        "id": "HYmCXN1b_PVN",
        "outputId": "f4826706-2e18-46f7-934a-55dd2524d31d"
      },
      "source": [
        "import math\n",
        "def formula_general(a, b, c):\n",
        "    form=pow(b,2)-(4*a*c)\n",
        "    return form\n",
        "\n",
        "def raices(a, b, dis):\n",
        "    raiza=(-b+math.sqrt(dis))/(2*a)\n",
        "    raizb=-(b+math.sqrt(dis))/(2*a) \n",
        "    return raiza, raizb\n",
        "\n",
        "print (\"Introduce los valores\")\n",
        "a=float(input(\"a: \"))    \n",
        "b=float(input(\"b: \"))    \n",
        "c=float(input(\"c: \"))    \n",
        "dis=formula_general(a, b, c)\n",
        "if dis<0:\n",
        "  print(\"No existen raíces positivas\")\n",
        "else:\n",
        "  print(\"Las raíces resultantes son: \")\n",
        "  print (raices(a,b,dis))\n"
      ],
      "execution_count": 10,
      "outputs": [
        {
          "output_type": "stream",
          "name": "stdout",
          "text": [
            "Introduce los valores\n",
            "a: 9\n",
            "b: 10\n",
            "c: -8\n",
            "Las raíces resultantes son: \n",
            "(0.5387619779773449, -1.649873089088456)\n"
          ]
        }
      ]
    }
  ]
}